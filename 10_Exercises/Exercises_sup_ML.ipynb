{
 "cells": [
  {
   "cell_type": "markdown",
   "id": "8fe461c7-e227-41c9-9e93-e8eca2307ed6",
   "metadata": {},
   "source": [
    "# Exercises: Classifications and Regression "
   ]
  },
  {
   "cell_type": "markdown",
   "id": "03f56d6e-a439-4ee4-b28a-325deb58d854",
   "metadata": {},
   "source": [
    "## Exercise 1: classifying quasars and AGNs\n",
    "\n",
    "The goal of this exercise is to classify galaxy vs quasars in the Sloan Digital Sky Survey (SDSS). For this purpose, we will be using a catalog magnitudes of galaxies and quasars as compiled by the SDSS. This catalog contains the following columns: `u, g, r, i, z, class, z1, zerr`. Then, you will explore this data set and use a Gaussian Naive Bayes classifier to find which colors yield the most efficient classification.  \n",
    "**In Practice** \n",
    "\n",
    "- Read the csv file `galaxyquasar.csv`. This file originally results from a SQL query implemented in the `fetch_sdss_galaxy_colors()` of the `astroML.datasets` (but this query occasionally fails).  \n",
    "- Create arrays for the (u-g), (g-r), (r-i), and (i-z) colors. Also create an array with the class labels where galaxy=0 and quasar=1.\n",
    "- Classify the data set against the target labels using a Gaussian Naive Bayes classifier. \n",
    "- Is it best to use all features or only a subsample of them? If so, which one(s)? Justify.\n",
    "- Explore other classifiers and discuss your results. "
   ]
  },
  {
   "cell_type": "markdown",
   "id": "aa6363b6-1210-4bf3-ace7-6860ba804bac",
   "metadata": {},
   "source": [
    "## Exercise 2: Predicting redshift from photometry. \n",
    "\n",
    "The goal of this exercise is to predict redshift of galaxies from the sloan digital sky survey based only on the photometry. The data sample is now saved in the csv file `sdss_data_sub_v2.csv`. This data set is closer to what you would get in the real world that in exercise \\#1 (i.e. less cleaning). \n",
    "\n",
    "The columns are: \n",
    "- 'bestobjid': Object ID\n",
    "- 'ra', 'dec': location of the object on the sky in degrees.\n",
    "- 'zsp': Spectroscopic redshift\n",
    "- 'class': Object Class\n",
    "- 'sourceType': Source type  ('SEQUELS_TARGET','QSO', 'LRG', 'ELG', 'GALAXY')\n",
    "- 'u', 'g', 'r', 'i', 'z' and 'err_u', 'err_g', 'err_r', 'err_i', 'err_z' are the magnitudes in 5 photometric bands and their associated uncertainties. \n",
    "\n",
    "The source types acronyms mean:\n",
    "- QSO = quasars,\n",
    "- LRG = Luminous Red Galaxies,\n",
    "- ELG = Emission line Galaxies\n",
    "- GALAXY = galaxies that are not LRG or ELG.\n",
    "- 'SEQUEL_TARGET' = Object that do not enter any meaningful class. They should not be considered for redshift estimation. \n",
    "\n",
    "### Objective: \n",
    "- Use a regression algorithm to predict the redshift based on 5 photometric bands ('u', 'g', 'r', 'i', 'z'). Compare the results using various regression techniques (The first one to try is LinearRegression). \n",
    "- Redo the same exercise for each source type separately.\n",
    "- Which band(s) are the most important for the redshift predictions? Is it the same band for each source type?\n",
    "\n",
    "Tip: In order to understand which bands are the most important for the redshift prediction, you can use the \"permutation_importance\" function using the command line: \n",
    "`from sklearn.inspection import permutation_importance`  (see  [https://scikit-learn.org/stable/modules/generated/sklearn.inspection.permutation_importance.html](https://scikit-learn.org/stable/modules/generated/sklearn.inspection.permutation_importance.html) for an explanation). \n",
    "\n",
    "Bonus: Explore methodologies similar to exercise #1 for classification, but this time dealing with the different source types. \n"
   ]
  },
  {
   "cell_type": "code",
   "execution_count": null,
   "id": "b58ba08f-dd0d-43ab-ad74-b71fb208c04f",
   "metadata": {},
   "outputs": [],
   "source": []
  }
 ],
 "metadata": {
  "kernelspec": {
   "display_name": "Python [conda env:py_SPAT0086]",
   "language": "python",
   "name": "conda-env-py_SPAT0086-py"
  },
  "language_info": {
   "codemirror_mode": {
    "name": "ipython",
    "version": 3
   },
   "file_extension": ".py",
   "mimetype": "text/x-python",
   "name": "python",
   "nbconvert_exporter": "python",
   "pygments_lexer": "ipython3",
   "version": "3.8.18"
  }
 },
 "nbformat": 4,
 "nbformat_minor": 5
}
